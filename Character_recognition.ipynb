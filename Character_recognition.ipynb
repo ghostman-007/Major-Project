{
 "cells": [
  {
   "cell_type": "markdown",
   "metadata": {
    "colab_type": "text",
    "id": "view-in-github"
   },
   "source": [
    "<a href=\"https://colab.research.google.com/github/PhantomHunt/Major-Project/blob/master/Character_recognition.ipynb\" target=\"_parent\"><img src=\"https://colab.research.google.com/assets/colab-badge.svg\" alt=\"Open In Colab\"/></a>"
   ]
  },
  {
   "cell_type": "markdown",
   "metadata": {
    "colab_type": "text",
    "id": "eBVbjRVe3Lof"
   },
   "source": [
    "## Convolutional Neural Networks (CNNs)"
   ]
  },
  {
   "cell_type": "markdown",
   "metadata": {
    "colab_type": "text",
    "id": "L6b75lRZUw16"
   },
   "source": []
  },
  {
   "cell_type": "markdown",
   "metadata": {
    "colab_type": "text",
    "id": "GRoMwNng6cvU"
   },
   "source": [
    "Import TensorFlow"
   ]
  },
  {
   "cell_type": "code",
   "execution_count": 1,
   "metadata": {
    "colab": {
     "base_uri": "https://localhost:8080/",
     "height": 632
    },
    "colab_type": "code",
    "id": "qYadXG886hY-",
    "outputId": "c3e68830-321c-4aa6-9489-fa80518094f3"
   },
   "outputs": [
    {
     "name": "stdout",
     "output_type": "stream",
     "text": [
      "Requirement already satisfied: tensorflow in c:\\users\\ghostman\\appdata\\local\\programs\\python\\python37\\lib\\site-packages (2.0.0)\n",
      "Requirement already satisfied: numpy<2.0,>=1.16.0 in c:\\users\\ghostman\\appdata\\local\\programs\\python\\python37\\lib\\site-packages (from tensorflow) (1.18.1)\n",
      "Requirement already satisfied: protobuf>=3.6.1 in c:\\users\\ghostman\\appdata\\local\\programs\\python\\python37\\lib\\site-packages (from tensorflow) (3.11.2)\n",
      "Requirement already satisfied: six>=1.10.0 in c:\\users\\ghostman\\appdata\\local\\programs\\python\\python37\\lib\\site-packages (from tensorflow) (1.12.0)\n",
      "Requirement already satisfied: keras-applications>=1.0.8 in c:\\users\\ghostman\\appdata\\local\\programs\\python\\python37\\lib\\site-packages (from tensorflow) (1.0.8)\n",
      "Requirement already satisfied: wheel>=0.26 in c:\\users\\ghostman\\appdata\\local\\programs\\python\\python37\\lib\\site-packages (from tensorflow) (0.33.6)\n",
      "Requirement already satisfied: google-pasta>=0.1.6 in c:\\users\\ghostman\\appdata\\local\\programs\\python\\python37\\lib\\site-packages (from tensorflow) (0.1.8)\n",
      "Requirement already satisfied: absl-py>=0.7.0 in c:\\users\\ghostman\\appdata\\local\\programs\\python\\python37\\lib\\site-packages (from tensorflow) (0.9.0)\n",
      "Requirement already satisfied: gast==0.2.2 in c:\\users\\ghostman\\appdata\\local\\programs\\python\\python37\\lib\\site-packages (from tensorflow) (0.2.2)\n",
      "Requirement already satisfied: keras-preprocessing>=1.0.5 in c:\\users\\ghostman\\appdata\\local\\programs\\python\\python37\\lib\\site-packages (from tensorflow) (1.1.0)\n",
      "Requirement already satisfied: wrapt>=1.11.1 in c:\\users\\ghostman\\appdata\\roaming\\python\\python37\\site-packages (from tensorflow) (1.11.2)\n",
      "Requirement already satisfied: opt-einsum>=2.3.2 in c:\\users\\ghostman\\appdata\\local\\programs\\python\\python37\\lib\\site-packages (from tensorflow) (3.1.0)\n",
      "Requirement already satisfied: astor>=0.6.0 in c:\\users\\ghostman\\appdata\\local\\programs\\python\\python37\\lib\\site-packages (from tensorflow) (0.8.1)\n",
      "Requirement already satisfied: tensorboard<2.1.0,>=2.0.0 in c:\\users\\ghostman\\appdata\\local\\programs\\python\\python37\\lib\\site-packages (from tensorflow) (2.0.2)\n",
      "Requirement already satisfied: termcolor>=1.1.0 in c:\\users\\ghostman\\appdata\\local\\programs\\python\\python37\\lib\\site-packages (from tensorflow) (1.1.0)\n",
      "Requirement already satisfied: grpcio>=1.8.6 in c:\\users\\ghostman\\appdata\\local\\programs\\python\\python37\\lib\\site-packages (from tensorflow) (1.26.0)\n",
      "Requirement already satisfied: tensorflow-estimator<2.1.0,>=2.0.0 in c:\\users\\ghostman\\appdata\\local\\programs\\python\\python37\\lib\\site-packages (from tensorflow) (2.0.1)\n",
      "Requirement already satisfied: setuptools in c:\\users\\ghostman\\appdata\\local\\programs\\python\\python37\\lib\\site-packages (from protobuf>=3.6.1->tensorflow) (46.0.0)\n",
      "Requirement already satisfied: h5py in c:\\users\\ghostman\\appdata\\local\\programs\\python\\python37\\lib\\site-packages (from keras-applications>=1.0.8->tensorflow) (2.10.0)\n",
      "Requirement already satisfied: markdown>=2.6.8 in c:\\users\\ghostman\\appdata\\local\\programs\\python\\python37\\lib\\site-packages (from tensorboard<2.1.0,>=2.0.0->tensorflow) (3.1.1)\n",
      "Requirement already satisfied: google-auth-oauthlib<0.5,>=0.4.1 in c:\\users\\ghostman\\appdata\\local\\programs\\python\\python37\\lib\\site-packages (from tensorboard<2.1.0,>=2.0.0->tensorflow) (0.4.1)\n",
      "Requirement already satisfied: google-auth<2,>=1.6.3 in c:\\users\\ghostman\\appdata\\local\\programs\\python\\python37\\lib\\site-packages (from tensorboard<2.1.0,>=2.0.0->tensorflow) (1.10.0)\n",
      "Requirement already satisfied: werkzeug>=0.11.15 in c:\\users\\ghostman\\appdata\\local\\programs\\python\\python37\\lib\\site-packages (from tensorboard<2.1.0,>=2.0.0->tensorflow) (0.16.0)\n",
      "Requirement already satisfied: requests<3,>=2.21.0 in c:\\users\\ghostman\\appdata\\local\\programs\\python\\python37\\lib\\site-packages (from tensorboard<2.1.0,>=2.0.0->tensorflow) (2.22.0)\n",
      "Requirement already satisfied: requests-oauthlib>=0.7.0 in c:\\users\\ghostman\\appdata\\local\\programs\\python\\python37\\lib\\site-packages (from google-auth-oauthlib<0.5,>=0.4.1->tensorboard<2.1.0,>=2.0.0->tensorflow) (1.3.0)\n",
      "Requirement already satisfied: cachetools<5.0,>=2.0.0 in c:\\users\\ghostman\\appdata\\local\\programs\\python\\python37\\lib\\site-packages (from google-auth<2,>=1.6.3->tensorboard<2.1.0,>=2.0.0->tensorflow) (4.0.0)\n",
      "Requirement already satisfied: pyasn1-modules>=0.2.1 in c:\\users\\ghostman\\appdata\\local\\programs\\python\\python37\\lib\\site-packages (from google-auth<2,>=1.6.3->tensorboard<2.1.0,>=2.0.0->tensorflow) (0.2.7)\n",
      "Requirement already satisfied: rsa<4.1,>=3.1.4 in c:\\users\\ghostman\\appdata\\local\\programs\\python\\python37\\lib\\site-packages (from google-auth<2,>=1.6.3->tensorboard<2.1.0,>=2.0.0->tensorflow) (4.0)\n",
      "Requirement already satisfied: urllib3!=1.25.0,!=1.25.1,<1.26,>=1.21.1 in c:\\users\\ghostman\\appdata\\local\\programs\\python\\python37\\lib\\site-packages (from requests<3,>=2.21.0->tensorboard<2.1.0,>=2.0.0->tensorflow) (1.25.3)\n",
      "Requirement already satisfied: certifi>=2017.4.17 in c:\\users\\ghostman\\appdata\\local\\programs\\python\\python37\\lib\\site-packages (from requests<3,>=2.21.0->tensorboard<2.1.0,>=2.0.0->tensorflow) (2019.6.16)\n",
      "Requirement already satisfied: idna<2.9,>=2.5 in c:\\users\\ghostman\\appdata\\local\\programs\\python\\python37\\lib\\site-packages (from requests<3,>=2.21.0->tensorboard<2.1.0,>=2.0.0->tensorflow) (2.8)\n",
      "Requirement already satisfied: chardet<3.1.0,>=3.0.2 in c:\\users\\ghostman\\appdata\\local\\programs\\python\\python37\\lib\\site-packages (from requests<3,>=2.21.0->tensorboard<2.1.0,>=2.0.0->tensorflow) (3.0.4)\n",
      "Requirement already satisfied: oauthlib>=3.0.0 in c:\\users\\ghostman\\appdata\\local\\programs\\python\\python37\\lib\\site-packages (from requests-oauthlib>=0.7.0->google-auth-oauthlib<0.5,>=0.4.1->tensorboard<2.1.0,>=2.0.0->tensorflow) (3.1.0)\n",
      "Requirement already satisfied: pyasn1<0.5.0,>=0.4.6 in c:\\users\\ghostman\\appdata\\local\\programs\\python\\python37\\lib\\site-packages (from pyasn1-modules>=0.2.1->google-auth<2,>=1.6.3->tensorboard<2.1.0,>=2.0.0->tensorflow) (0.4.8)\n"
     ]
    }
   ],
   "source": [
    "# %tensorflow_version 2.x\n",
    "# !pip uninstall -y tensorflow\n",
    "!pip install tensorflow\n",
    "#!pip install tensorflow-gpu==2.0.0-beta1\n",
    "import tensorflow as tf\n",
    "from tensorflow.keras import datasets, layers, models\n",
    "import datetime\n",
    "import os"
   ]
  },
  {
   "cell_type": "code",
   "execution_count": 2,
   "metadata": {
    "colab": {
     "base_uri": "https://localhost:8080/",
     "height": 289
    },
    "colab_type": "code",
    "id": "zR7g_efY6wBh",
    "outputId": "95a562e6-7329-49cc-e049-7b54f4a58158"
   },
   "outputs": [
    {
     "name": "stdout",
     "output_type": "stream",
     "text": [
      "Before reshaping\n",
      "================\n",
      "Number of axes in train_images:  3\n",
      "Number of axes in test_images:  3\n",
      "Shape of train_images:  (60000, 28, 28)\n",
      "Shape of test_images:  (10000, 28, 28)\n",
      "\n",
      "After reshaping:\n",
      "================\n",
      "Number of axes in train_images:  4\n",
      "Number of axes in test_images:  4\n",
      "Shape of train_images:  (60000, 28, 28, 1)\n",
      "Shape of test_images:  (10000, 28, 28, 1)\n",
      "\n"
     ]
    }
   ],
   "source": [
    "(train_images, train_labels), (test_images, test_labels) = datasets.mnist.load_data()\n",
    "\n",
    "#converting 3D tensor to 2D tensor\n",
    "print (\"Before reshaping\")\n",
    "print (\"================\")\n",
    "print (\"Number of axes in train_images: \", train_images.ndim)\n",
    "print (\"Number of axes in test_images: \", test_images.ndim)\n",
    "print (\"Shape of train_images: \", train_images.shape)\n",
    "print (\"Shape of test_images: \", test_images.shape)\n",
    "\n",
    "train_images = train_images.reshape((60000, 28, 28, 1))\n",
    "test_images = test_images.reshape((10000, 28, 28, 1))\n",
    "\n",
    "print (\"\\nAfter reshaping:\")\n",
    "print (\"================\")\n",
    "print (\"Number of axes in train_images: \", train_images.ndim)\n",
    "print (\"Number of axes in test_images: \", test_images.ndim)\n",
    "print (\"Shape of train_images: \", train_images.shape)\n",
    "print (\"Shape of test_images: \", test_images.shape)\n",
    "print ()\n",
    "\n",
    "# Normalize pixel values to be between 0 and 1\n",
    "train_images, test_images = train_images / 255.0, test_images / 255.0"
   ]
  },
  {
   "cell_type": "markdown",
   "metadata": {
    "colab_type": "text",
    "id": "BAwhGbkf8H-Q"
   },
   "source": [
    "### Create the convolutional base"
   ]
  },
  {
   "cell_type": "code",
   "execution_count": 3,
   "metadata": {
    "colab": {},
    "colab_type": "code",
    "id": "nN8T1dOR-bM7"
   },
   "outputs": [],
   "source": [
    "model = models.Sequential()"
   ]
  },
  {
   "cell_type": "markdown",
   "metadata": {
    "colab_type": "text",
    "id": "ZTf1QRLF-fQM"
   },
   "source": [
    "The 6 lines of code below define the convolutional base using a common pattern: a stack of Conv2D and MaxPooling2D layers.\n",
    "\n",
    "As input, a CNN takes tensors of shape (image_height, image_width, color_channels), ignoring the batch size."
   ]
  },
  {
   "cell_type": "code",
   "execution_count": 4,
   "metadata": {
    "colab": {},
    "colab_type": "code",
    "id": "b1FHaD0S_L3S"
   },
   "outputs": [],
   "source": [
    "model.add(layers.Conv2D(32, (3,3,), activation='relu', input_shape=(28, 28, 1)))"
   ]
  },
  {
   "cell_type": "code",
   "execution_count": 5,
   "metadata": {
    "colab": {},
    "colab_type": "code",
    "id": "qxgrtwdX_VQW"
   },
   "outputs": [],
   "source": [
    "model.add(layers.MaxPooling2D((2,2)))"
   ]
  },
  {
   "cell_type": "code",
   "execution_count": 6,
   "metadata": {
    "colab": {},
    "colab_type": "code",
    "id": "TdLX8D4o_drz"
   },
   "outputs": [],
   "source": [
    "model.add(layers.Conv2D(64, (3, 3), activation='relu'))\n",
    "model.add(layers.MaxPooling2D((2, 2)))"
   ]
  },
  {
   "cell_type": "code",
   "execution_count": 7,
   "metadata": {
    "colab": {},
    "colab_type": "code",
    "id": "RaHsqobx_-EO"
   },
   "outputs": [],
   "source": [
    "model.add(layers.Conv2D(64, (3, 3), activation='relu'))"
   ]
  },
  {
   "cell_type": "code",
   "execution_count": 8,
   "metadata": {
    "colab": {
     "base_uri": "https://localhost:8080/",
     "height": 323
    },
    "colab_type": "code",
    "id": "grOANO1hAH9w",
    "outputId": "4515152f-2808-474c-9c5e-01d3a3937cca"
   },
   "outputs": [
    {
     "name": "stdout",
     "output_type": "stream",
     "text": [
      "Model: \"sequential\"\n",
      "_________________________________________________________________\n",
      "Layer (type)                 Output Shape              Param #   \n",
      "=================================================================\n",
      "conv2d (Conv2D)              (None, 26, 26, 32)        320       \n",
      "_________________________________________________________________\n",
      "max_pooling2d (MaxPooling2D) (None, 13, 13, 32)        0         \n",
      "_________________________________________________________________\n",
      "conv2d_1 (Conv2D)            (None, 11, 11, 64)        18496     \n",
      "_________________________________________________________________\n",
      "max_pooling2d_1 (MaxPooling2 (None, 5, 5, 64)          0         \n",
      "_________________________________________________________________\n",
      "conv2d_2 (Conv2D)            (None, 3, 3, 64)          36928     \n",
      "=================================================================\n",
      "Total params: 55,744\n",
      "Trainable params: 55,744\n",
      "Non-trainable params: 0\n",
      "_________________________________________________________________\n"
     ]
    }
   ],
   "source": [
    "model.summary()\n",
    "#we did not use padding. for 2nd and 3rd convolution op, we used 64 filters each and in first used 32 filters. "
   ]
  },
  {
   "cell_type": "markdown",
   "metadata": {
    "colab_type": "text",
    "id": "YARxPpg3AKEc"
   },
   "source": [
    "To complete our model, we will feed the last output tensor from the convolutional base (of shape(3, 3, 64)) into one or more Dense layers to perform classification. Dense layers take vectors as input (which are 1D), while the current output in a 3D tensor. First, we will fatten (or unroll) the 3D output to 1D, then add one or more Dense layers on top. MNIST has 10 output classes, so we use final Dense layer with 10 ouputs and a softmax activation."
   ]
  },
  {
   "cell_type": "code",
   "execution_count": 9,
   "metadata": {
    "colab": {},
    "colab_type": "code",
    "id": "rf6--5aNA7Pq"
   },
   "outputs": [],
   "source": [
    "model.add(layers.Flatten())\n",
    "model.add(layers.Dense(64, activation='relu'))\n",
    "model.add(layers.Dense(10, activation='softmax'))"
   ]
  },
  {
   "cell_type": "code",
   "execution_count": 10,
   "metadata": {
    "colab": {
     "base_uri": "https://localhost:8080/",
     "height": 425
    },
    "colab_type": "code",
    "id": "LNVZfy3cBFMc",
    "outputId": "ae948083-599d-4a8b-d655-8135e4d1b255"
   },
   "outputs": [
    {
     "name": "stdout",
     "output_type": "stream",
     "text": [
      "Model: \"sequential\"\n",
      "_________________________________________________________________\n",
      "Layer (type)                 Output Shape              Param #   \n",
      "=================================================================\n",
      "conv2d (Conv2D)              (None, 26, 26, 32)        320       \n",
      "_________________________________________________________________\n",
      "max_pooling2d (MaxPooling2D) (None, 13, 13, 32)        0         \n",
      "_________________________________________________________________\n",
      "conv2d_1 (Conv2D)            (None, 11, 11, 64)        18496     \n",
      "_________________________________________________________________\n",
      "max_pooling2d_1 (MaxPooling2 (None, 5, 5, 64)          0         \n",
      "_________________________________________________________________\n",
      "conv2d_2 (Conv2D)            (None, 3, 3, 64)          36928     \n",
      "_________________________________________________________________\n",
      "flatten (Flatten)            (None, 576)               0         \n",
      "_________________________________________________________________\n",
      "dense (Dense)                (None, 64)                36928     \n",
      "_________________________________________________________________\n",
      "dense_1 (Dense)              (None, 10)                650       \n",
      "=================================================================\n",
      "Total params: 93,322\n",
      "Trainable params: 93,322\n",
      "Non-trainable params: 0\n",
      "_________________________________________________________________\n"
     ]
    }
   ],
   "source": [
    "model.summary()"
   ]
  },
  {
   "cell_type": "markdown",
   "metadata": {
    "colab_type": "text",
    "id": "nRdlBQBkBI6t"
   },
   "source": [
    "Compile and train the model"
   ]
  },
  {
   "cell_type": "code",
   "execution_count": 11,
   "metadata": {
    "colab": {
     "base_uri": "https://localhost:8080/",
     "height": 204
    },
    "colab_type": "code",
    "id": "RM8s6VTuBn-y",
    "outputId": "ff52b93c-4e44-473f-8167-0d48c1e805f8"
   },
   "outputs": [
    {
     "name": "stdout",
     "output_type": "stream",
     "text": [
      "Train on 60000 samples\n",
      "Epoch 1/5\n",
      "60000/60000 [==============================] - 35s 578us/sample - loss: 0.1529 - accuracy: 0.9535\n",
      "Epoch 2/5\n",
      "60000/60000 [==============================] - 31s 513us/sample - loss: 0.0477 - accuracy: 0.9847\n",
      "Epoch 3/5\n",
      "60000/60000 [==============================] - 29s 491us/sample - loss: 0.0353 - accuracy: 0.9887-\n",
      "Epoch 4/5\n",
      "60000/60000 [==============================] - 29s 485us/sample - loss: 0.0257 - accuracy: 0.9916\n",
      "Epoch 5/5\n",
      "60000/60000 [==============================] - 29s 483us/sample - loss: 0.0206 - accuracy: 0.9935\n"
     ]
    },
    {
     "data": {
      "text/plain": [
       "<tensorflow.python.keras.callbacks.History at 0x1ce4b4639c8>"
      ]
     },
     "execution_count": 11,
     "metadata": {},
     "output_type": "execute_result"
    }
   ],
   "source": [
    "model.compile(optimizer='adam',\n",
    "              loss='sparse_categorical_crossentropy',\n",
    "              metrics=['accuracy'])\n",
    "model.fit(train_images, train_labels, epochs=5)"
   ]
  },
  {
   "cell_type": "markdown",
   "metadata": {
    "colab_type": "text",
    "id": "9T3v0uY5B2B8"
   },
   "source": [
    "Evaluate the model"
   ]
  },
  {
   "cell_type": "code",
   "execution_count": 12,
   "metadata": {
    "colab": {
     "base_uri": "https://localhost:8080/",
     "height": 51
    },
    "colab_type": "code",
    "id": "OShqm9gGB-sQ",
    "outputId": "c35ede43-618e-49ed-fb9d-8cd1800c3e6e"
   },
   "outputs": [
    {
     "name": "stdout",
     "output_type": "stream",
     "text": [
      "10000/10000 [==============================] - 1s 139us/sample - loss: 0.0320 - accuracy: 0.9909\n",
      "99.08999800682068 %\n"
     ]
    }
   ],
   "source": [
    "test_loss, test_acc = model.evaluate(test_images, test_labels)\n",
    "print (test_acc*100, '%')"
   ]
  },
  {
   "cell_type": "markdown",
   "metadata": {
    "colab_type": "text",
    "id": "G0A0ikraIQJG"
   },
   "source": [
    "Testing the model"
   ]
  },
  {
   "cell_type": "code",
   "execution_count": 13,
   "metadata": {
    "colab": {
     "base_uri": "https://localhost:8080/",
     "height": 122
    },
    "colab_type": "code",
    "id": "ZTkKuAhyEyQK",
    "outputId": "b8669ced-168a-4b2e-d727-7f14e675fc04"
   },
   "outputs": [
    {
     "ename": "ModuleNotFoundError",
     "evalue": "No module named 'google.colab'",
     "output_type": "error",
     "traceback": [
      "\u001b[1;31m---------------------------------------------------------------------------\u001b[0m",
      "\u001b[1;31mModuleNotFoundError\u001b[0m                       Traceback (most recent call last)",
      "\u001b[1;32m<ipython-input-13-c36f5579453e>\u001b[0m in \u001b[0;36m<module>\u001b[1;34m\u001b[0m\n\u001b[1;32m----> 1\u001b[1;33m \u001b[1;32mfrom\u001b[0m \u001b[0mgoogle\u001b[0m\u001b[1;33m.\u001b[0m\u001b[0mcolab\u001b[0m \u001b[1;32mimport\u001b[0m \u001b[0mdrive\u001b[0m\u001b[1;33m\u001b[0m\u001b[1;33m\u001b[0m\u001b[0m\n\u001b[0m\u001b[0;32m      2\u001b[0m \u001b[1;33m\u001b[0m\u001b[0m\n\u001b[0;32m      3\u001b[0m \u001b[0mdrive\u001b[0m\u001b[1;33m.\u001b[0m\u001b[0mmount\u001b[0m\u001b[1;33m(\u001b[0m\u001b[1;34m'/content/drive'\u001b[0m\u001b[1;33m)\u001b[0m\u001b[1;33m\u001b[0m\u001b[1;33m\u001b[0m\u001b[0m\n",
      "\u001b[1;31mModuleNotFoundError\u001b[0m: No module named 'google.colab'"
     ]
    }
   ],
   "source": [
    "from google.colab import drive\n",
    "\n",
    "drive.mount('/content/drive')"
   ]
  },
  {
   "cell_type": "code",
   "execution_count": 16,
   "metadata": {
    "colab": {
     "base_uri": "https://localhost:8080/",
     "height": 265
    },
    "colab_type": "code",
    "id": "FHjNsWGEEyKb",
    "outputId": "8f311159-5731-4676-be4d-5cbb89c791d3"
   },
   "outputs": [
    {
     "data": {
      "image/png": "[encoded data removed]",
      "text/plain": [
       "<Figure size 432x288 with 1 Axes>"
      ]
     },
     "metadata": {
      "needs_background": "light"
     },
     "output_type": "display_data"
    }
   ],
   "source": [
    "import numpy as np\n",
    "import matplotlib.pyplot as plt\n",
    "import matplotlib.image as mpimg\n",
    "\n",
    "def rgb2gray(rgb):\n",
    "  return np.dot(rgb[...,:3], [0.2989, 0.5870, 0.1140])\n",
    "\n",
    "#img = mpimg.imread('/content/drive/My Drive/Colab Notebooks/8.jpeg')\n",
    "img = mpimg.imread('./Images/8.jpeg')\n",
    "gray = rgb2gray(img)\n",
    "plt.imshow(gray, cmap=plt.get_cmap('gray'))\n",
    "plt.show()"
   ]
  },
  {
   "cell_type": "code",
   "execution_count": 24,
   "metadata": {
    "colab": {
     "base_uri": "https://localhost:8080/",
     "height": 34
    },
    "colab_type": "code",
    "id": "Sf3P3e_-Ex_j",
    "outputId": "0cff8880-d519-4cee-f718-77d3ba807001"
   },
   "outputs": [
    {
     "data": {
      "text/plain": [
       "(28, 28)"
      ]
     },
     "execution_count": 24,
     "metadata": {},
     "output_type": "execute_result"
    }
   ],
   "source": [
    "gray.shape"
   ]
  },
  {
   "cell_type": "code",
   "execution_count": 108,
   "metadata": {
    "colab": {
     "base_uri": "https://localhost:8080/",
     "height": 34
    },
    "colab_type": "code",
    "id": "01Rge6HgGatL",
    "outputId": "dc109cfb-4e6a-481d-edc0-d8112daec84f"
   },
   "outputs": [
    {
     "data": {
      "text/plain": [
       "(28, 28, 1)"
      ]
     },
     "execution_count": 108,
     "metadata": {},
     "output_type": "execute_result"
    }
   ],
   "source": [
    "new_img = np.expand_dims(gray, axis=2)\n",
    "new_img.shape"
   ]
  },
  {
   "cell_type": "code",
   "execution_count": 26,
   "metadata": {
    "colab": {
     "base_uri": "https://localhost:8080/",
     "height": 595
    },
    "colab_type": "code",
    "id": "QDw13LPZGafm",
    "outputId": "7db4e680-2329-42ee-82dc-db61f0be88c0"
   },
   "outputs": [],
   "source": [
    "test_predict = model.predict([[new_img]])"
   ]
  },
  {
   "cell_type": "code",
   "execution_count": 96,
   "metadata": {},
   "outputs": [
    {
     "data": {
      "text/plain": [
       "array([[0.000000e+00, 0.000000e+00, 0.000000e+00, 0.000000e+00,\n",
       "        1.000000e+00, 0.000000e+00, 0.000000e+00, 0.000000e+00,\n",
       "        2.126063e-16, 0.000000e+00]], dtype=float32)"
      ]
     },
     "execution_count": 96,
     "metadata": {},
     "output_type": "execute_result"
    }
   ],
   "source": [
    "test_predict"
   ]
  },
  {
   "cell_type": "code",
   "execution_count": 111,
   "metadata": {
    "colab": {},
    "colab_type": "code",
    "id": "SKkaTEaBGaZ6"
   },
   "outputs": [
    {
     "name": "stdout",
     "output_type": "stream",
     "text": [
      "[[0.000000e+00 0.000000e+00 0.000000e+00 0.000000e+00 1.000000e+00\n",
      "  0.000000e+00 0.000000e+00 0.000000e+00 2.126063e-16 0.000000e+00]]\n",
      "The Number is  4\n"
     ]
    }
   ],
   "source": [
    "print(test_predict)\n",
    "temp = test_predict.flatten()\n",
    "max = 0\n",
    "index = -1\n",
    "for i in range(temp.size):\n",
    "  if temp[i] > max:\n",
    "    max=temp[i]\n",
    "    index = i\n",
    "\n",
    "print(\"The Number is \",index)"
   ]
  },
  {
   "cell_type": "markdown",
   "metadata": {
    "colab_type": "text",
    "id": "seN--xdqCFiy"
   },
   "source": [
    "## Classification with Feedforward Neural Networks"
   ]
  },
  {
   "cell_type": "code",
   "execution_count": 0,
   "metadata": {
    "colab": {},
    "colab_type": "code",
    "id": "Y2npSGg2CWfn"
   },
   "outputs": [],
   "source": [
    "mnist = tf.keras.datasets.mnist\n",
    "\n",
    "(x_train, y_train), (x_test, y_test) = mnist.load_data()\n",
    "x_train, x_test = x_train / 255.0, x_test / 255.0"
   ]
  },
  {
   "cell_type": "code",
   "execution_count": 0,
   "metadata": {
    "colab": {},
    "colab_type": "code",
    "id": "UQ6rU5vXCieY"
   },
   "outputs": [],
   "source": [
    "model_dnn = tf.keras.models.Sequential([\n",
    "  tf.keras.layers.Flatten(input_shape=(28, 28)),\n",
    "  tf.keras.layers.Dense(128, activation='relu'),\n",
    "  tf.keras.layers.Dropout(0.2),\n",
    "  tf.keras.layers.Dense(10, activation='softmax')\n",
    "])\n",
    "\n",
    "model_dnn.compile(optimizer='adam',\n",
    "                  loss='sparse_categorical_crossentropy',\n",
    "                  metrics=['accuracy'])"
   ]
  },
  {
   "cell_type": "code",
   "execution_count": 0,
   "metadata": {
    "colab": {
     "base_uri": "https://localhost:8080/",
     "height": 289
    },
    "colab_type": "code",
    "id": "KkW0rwTUDDWP",
    "outputId": "8ae0c08d-5b45-4446-eea3-927a0b31cad0"
   },
   "outputs": [
    {
     "name": "stdout",
     "output_type": "stream",
     "text": [
      "Model: \"sequential_1\"\n",
      "_________________________________________________________________\n",
      "Layer (type)                 Output Shape              Param #   \n",
      "=================================================================\n",
      "flatten_1 (Flatten)          (None, 784)               0         \n",
      "_________________________________________________________________\n",
      "dense_2 (Dense)              (None, 128)               100480    \n",
      "_________________________________________________________________\n",
      "dropout (Dropout)            (None, 128)               0         \n",
      "_________________________________________________________________\n",
      "dense_3 (Dense)              (None, 10)                1290      \n",
      "=================================================================\n",
      "Total params: 101,770\n",
      "Trainable params: 101,770\n",
      "Non-trainable params: 0\n",
      "_________________________________________________________________\n"
     ]
    }
   ],
   "source": [
    "model_dnn.summary()"
   ]
  },
  {
   "cell_type": "code",
   "execution_count": 0,
   "metadata": {
    "colab": {
     "base_uri": "https://localhost:8080/",
     "height": 221
    },
    "colab_type": "code",
    "id": "scY0CDgyDHjH",
    "outputId": "64b8d7f5-1a73-494f-ac5c-b23bcbf082cd"
   },
   "outputs": [
    {
     "name": "stdout",
     "output_type": "stream",
     "text": [
      "Train on 60000 samples\n",
      "Epoch 1/5\n",
      "60000/60000 [==============================] - 5s 76us/sample - loss: 0.2990 - accuracy: 0.9124\n",
      "Epoch 2/5\n",
      "60000/60000 [==============================] - 5s 76us/sample - loss: 0.1412 - accuracy: 0.9584\n",
      "Epoch 3/5\n",
      "60000/60000 [==============================] - 4s 73us/sample - loss: 0.1062 - accuracy: 0.9675\n",
      "Epoch 4/5\n",
      "60000/60000 [==============================] - 4s 72us/sample - loss: 0.0859 - accuracy: 0.9737\n",
      "Epoch 5/5\n",
      "60000/60000 [==============================] - 4s 74us/sample - loss: 0.0750 - accuracy: 0.9762\n"
     ]
    },
    {
     "data": {
      "text/plain": [
       "<tensorflow.python.keras.callbacks.History at 0x7f90ba2d98d0>"
      ]
     },
     "execution_count": 25,
     "metadata": {
      "tags": []
     },
     "output_type": "execute_result"
    }
   ],
   "source": [
    "model_dnn.fit(x_train, y_train, epochs=5)"
   ]
  },
  {
   "cell_type": "code",
   "execution_count": 0,
   "metadata": {
    "colab": {
     "base_uri": "https://localhost:8080/",
     "height": 51
    },
    "colab_type": "code",
    "id": "D-T1qkSEDOih",
    "outputId": "6eaf72cd-7377-47e4-f38c-9c697007e243"
   },
   "outputs": [
    {
     "name": "stdout",
     "output_type": "stream",
     "text": [
      "10000/10000 [==============================] - 1s 66us/sample - loss: 0.0799 - accuracy: 0.9750\n",
      "97.50000238418579 %\n"
     ]
    }
   ],
   "source": [
    "test_loss, test_acc = model_dnn.evaluate(x_test, y_test)\n",
    "print (test_acc*100, '%')"
   ]
  },
  {
   "cell_type": "code",
   "execution_count": 0,
   "metadata": {
    "colab": {
     "base_uri": "https://localhost:8080/",
     "height": 265
    },
    "colab_type": "code",
    "id": "XnWsCCi_EPpv",
    "outputId": "62f3fbc2-5d0e-4bd5-e1d1-745f9556eedd"
   },
   "outputs": [
    {
     "data": {
      "image/png": "[encoded data removed]",
      "text/plain": [
       "<Figure size 432x288 with 1 Axes>"
      ]
     },
     "metadata": {
      "needs_background": "light",
      "tags": []
     },
     "output_type": "display_data"
    }
   ],
   "source": [
    "import numpy as np\n",
    "import matplotlib.pyplot as plt\n",
    "import matplotlib.image as mpimg\n",
    "\n",
    "def rgb2gray(rgb):\n",
    "  return np.dot(rgb[...,:3], [0.2989, 0.5870, 0.1140])\n",
    "\n",
    "img = mpimg.imread('/content/drive/My Drive/Colab Notebooks/8.jpeg')\n",
    "gray = rgb2gray(img)\n",
    "plt.imshow(gray, cmap=plt.get_cmap('gray'))\n",
    "plt.show()"
   ]
  },
  {
   "cell_type": "code",
   "execution_count": 0,
   "metadata": {
    "colab": {
     "base_uri": "https://localhost:8080/",
     "height": 34
    },
    "colab_type": "code",
    "id": "c1WH8z8a6DW9",
    "outputId": "3943d0ff-3f7d-4a2b-ffef-babbcbc9ae79"
   },
   "outputs": [
    {
     "data": {
      "text/plain": [
       "array([[0., 0., 0., 0., 0., 0., 0., 0., 1., 0.]], dtype=float32)"
      ]
     },
     "execution_count": 104,
     "metadata": {
      "tags": []
     },
     "output_type": "execute_result"
    }
   ],
   "source": [
    "gray.shape\n",
    "new_img = np.expand_dims(gray, axis=2)\n",
    "new_img.shape\n",
    "test_predict = model.predict([[new_img]])\n",
    "test_predict"
   ]
  },
  {
   "cell_type": "code",
   "execution_count": 0,
   "metadata": {
    "colab": {},
    "colab_type": "code",
    "id": "awPfm2AW6Rr9"
   },
   "outputs": [],
   "source": []
  }
 ],
 "metadata": {
  "accelerator": "GPU",
  "colab": {
   "collapsed_sections": [],
   "include_colab_link": true,
   "name": "Character_recognition.ipynb",
   "provenance": []
  },
  "kernelspec": {
   "display_name": "Python 3",
   "language": "python",
   "name": "python3"
  },
  "language_info": {
   "codemirror_mode": {
    "name": "ipython",
    "version": 3
   },
   "file_extension": ".py",
   "mimetype": "text/x-python",
   "name": "python",
   "nbconvert_exporter": "python",
   "pygments_lexer": "ipython3",
   "version": "3.7.4"
  }
 },
 "nbformat": 4,
 "nbformat_minor": 1
}
